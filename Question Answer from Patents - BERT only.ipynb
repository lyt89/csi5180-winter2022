{
 "cells": [
  {
   "cell_type": "markdown",
   "id": "48f2dcfd",
   "metadata": {},
   "source": [
    "### Load Models"
   ]
  },
  {
   "cell_type": "code",
   "execution_count": 1,
   "id": "2c718d0a",
   "metadata": {},
   "outputs": [],
   "source": [
    "import numpy as np, gensim, linecache, requests\n",
    "from sentence_transformers import SentenceTransformer, util\n",
    "from transformers import AutoModelForQuestionAnswering, AutoTokenizer, pipeline\n",
    "\n",
    "# load patent vectors\n",
    "retriever_model = SentenceTransformer('stsb-roberta-large')\n",
    "\n",
    "retriever_patent_vectors_B = np.load('./patent_embeddings_roberta_large.npy')\n",
    "retriever_patent_vectors_B_norm = np.load('./patent_embeddings_roberta_large_norm.npy')\n",
    "\n",
    "# QA models\n",
    "model_name = \"deepset/roberta-base-squad2\"\n",
    "model = AutoModelForQuestionAnswering.from_pretrained(model_name)\n",
    "tokenizer = AutoTokenizer.from_pretrained(model_name)\n",
    "\n",
    "QA_model = pipeline('question-answering', model=model, tokenizer=tokenizer)\n",
    "# QA_input = {\n",
    "#     'question': 'Why is model conversion important?',\n",
    "#     'context': 'The option to convert models between FARM and transformers gives freedom to the user and let people easily switch between frameworks.'\n",
    "# }\n",
    "# res = nlp(QA_input)"
   ]
  },
  {
   "cell_type": "markdown",
   "id": "165a99f4",
   "metadata": {},
   "source": [
    "### Calculate cosine distance of question. Get top patents that can answer question"
   ]
  },
  {
   "cell_type": "code",
   "execution_count": 20,
   "id": "6a2fb675",
   "metadata": {},
   "outputs": [],
   "source": [
    "question = \"What do wireless communication device contain??\"\n",
    "num_results = 10"
   ]
  },
  {
   "cell_type": "code",
   "execution_count": 21,
   "id": "04df8bb8",
   "metadata": {},
   "outputs": [],
   "source": [
    "# convert question to retriever vector\n",
    "# cosine distance formula:\n",
    "# CD = (A * B) / (A_norm * B_norm)\n",
    "# A = input_text\n",
    "# B = embedding from embedding_matrix\n",
    "\n",
    "A = retriever_model.encode(question, show_progress_bar=False)\n",
    "A_norm = np.linalg.norm(A)\n",
    "\n",
    "# A * B\n",
    "AB = A.dot(np.transpose(retriever_patent_vectors_B))\n",
    "# A_norm * B_norm\n",
    "A_norm_dot_B_norm = np.array(A_norm).dot(np.transpose(retriever_patent_vectors_B_norm))\n",
    "\n",
    "# calculate cosine similarities\n",
    "cosine_similarity_retriever = AB / A_norm_dot_B_norm\n",
    "\n",
    "# sort result\n",
    "# argsort() returns array of sorted index (starts at 0) of top 10 most similar patents\n",
    "top_index = cosine_similarity_retriever.argsort()[0 - num_results:][::-1]\n",
    "\n",
    "top_patents_id = []\n",
    "for i in top_index:\n",
    "    patent_id = linecache.getline('./librarypatent_full_id_lines.txt', i+1)\n",
    "    top_patents_id.append(patent_id[:-1])"
   ]
  },
  {
   "cell_type": "code",
   "execution_count": 30,
   "id": "3883cfeb",
   "metadata": {},
   "outputs": [
    {
     "name": "stdout",
     "output_type": "stream",
     "text": [
      "[ 0.6836851   0.03060884  0.35621378 ...  0.06875013 -0.14872573\n",
      "  1.1083986 ]\n",
      "24.873655\n"
     ]
    }
   ],
   "source": [
    "A = retriever_model.encode(question, show_progress_bar=False)\n",
    "A_norm = np.linalg.norm(A)\n",
    "print(A)\n",
    "print(A_norm)"
   ]
  },
  {
   "cell_type": "code",
   "execution_count": 32,
   "id": "5f289871",
   "metadata": {},
   "outputs": [
    {
     "name": "stdout",
     "output_type": "stream",
     "text": [
      "[145866 660582 145345 208137 633421 177709  99029  23910 206886 252673]\n"
     ]
    }
   ],
   "source": [
    "print(top_index)"
   ]
  },
  {
   "cell_type": "markdown",
   "id": "84b081ca",
   "metadata": {},
   "source": [
    "### Retrieve and Divide Patent Text"
   ]
  },
  {
   "cell_type": "code",
   "execution_count": 23,
   "id": "51e58aa6",
   "metadata": {},
   "outputs": [],
   "source": [
    "r = requests.post('http://192.168.50.213:3000/api/search/_mget', json={\n",
    "  \"ids\":top_patents_id\n",
    "})"
   ]
  },
  {
   "cell_type": "markdown",
   "id": "b1243cee",
   "metadata": {},
   "source": [
    "### Divide Patent text into lists"
   ]
  },
  {
   "cell_type": "code",
   "execution_count": 24,
   "id": "368f5bca",
   "metadata": {},
   "outputs": [],
   "source": [
    "patent_text_list = []\n",
    "\n",
    "for i in r.json()['docs']:\n",
    "    \n",
    "    if '_source' not in i:\n",
    "        continue\n",
    "    \n",
    "    # extract text\n",
    "    source = i['_source']\n",
    "    \n",
    "    title = source['title']\n",
    "    abstract = source['abs']\n",
    "    claims = ' '.join( [ claim['text'] for claim in source['ind_claims'] ] )\n",
    "    line = abstract + ' ' + claims\n",
    "    line = gensim.utils.deaccent(line)\n",
    "    \n",
    "    # get id\n",
    "    id = source['id']\n",
    "    \n",
    "    patent_text_list.append({'title': title, 'id': id, 'text': line, 'score': 0, 'answer': ''})"
   ]
  },
  {
   "cell_type": "markdown",
   "id": "16bb579d",
   "metadata": {},
   "source": [
    "### Answer Question"
   ]
  },
  {
   "cell_type": "code",
   "execution_count": 25,
   "id": "c992687e",
   "metadata": {},
   "outputs": [
    {
     "name": "stdout",
     "output_type": "stream",
     "text": [
      "{'score': 0.2014942765235901, 'start': 4746, 'end': 4768, 'answer': 'reserved or empty bits'}\n",
      "{'score': 0.18846938014030457, 'start': 37, 'end': 66, 'answer': 'a plurality of wireless units'}\n",
      "{'score': 0.5465201139450073, 'start': 1677, 'end': 1697, 'answer': 'at least one antenna'}\n",
      "{'score': 0.5028700828552246, 'start': 3576, 'end': 3588, 'answer': 'content data'}\n",
      "{'score': 0.18052873015403748, 'start': 2920, 'end': 2984, 'answer': 'a memory configured to store at least one predetermined criteria'}\n",
      "{'score': 0.18052873015403748, 'start': 2920, 'end': 2984, 'answer': 'a memory configured to store at least one predetermined criteria'}\n",
      "{'score': 0.18052873015403748, 'start': 2920, 'end': 2984, 'answer': 'a memory configured to store at least one predetermined criteria'}\n",
      "{'score': 0.10627047717571259, 'start': 5307, 'end': 5316, 'answer': 'impedance'}\n",
      "{'score': 0.11491251736879349, 'start': 67, 'end': 92, 'answer': 'a position detection unit'}\n",
      "{'score': 0.4374890625476837, 'start': 3718, 'end': 3736, 'answer': 'steps of receiving'}\n"
     ]
    }
   ],
   "source": [
    "# {'score': 0.21171504259109497, 'start': 59, 'end': 84, 'answer': 'gives freedom to the user'}\n",
    "\n",
    "for i in patent_text_list:\n",
    "    \n",
    "    text = i['text']\n",
    "    \n",
    "    # use patent text to answer questions\n",
    "    res = QA_model({ 'question': question, 'context': text })\n",
    "    \n",
    "    print(res)\n",
    "    \n",
    "    score = res['score']\n",
    "    answer = res['answer']\n",
    "    \n",
    "    i['score'] = score\n",
    "    i['answer'] = answer"
   ]
  },
  {
   "cell_type": "code",
   "execution_count": 26,
   "id": "011776ee",
   "metadata": {},
   "outputs": [],
   "source": [
    "# sort and give highest answers\n",
    "answer_scores = sorted(patent_text_list, key=lambda d: d['score'], reverse=True)"
   ]
  },
  {
   "cell_type": "code",
   "execution_count": 27,
   "id": "3f5db1a7",
   "metadata": {},
   "outputs": [
    {
     "name": "stdout",
     "output_type": "stream",
     "text": [
      "{'title': 'Device, System and Method of Wireless Communication Over Non-Contiguous Channels', 'id': '8582551', 'text': '\\nSome demonstrative embodiments include devices, systems and/or methods of wireless communication over non-contiguous channels. For example, a device may include a wireless communication unit capable of transmitting symbols of a wireless communication packet to a wireless communication device over a plurality of non-contiguous wireless communication channels, wherein the wireless communication unit is to transmit, as part of a preamble of the packet, signaling information defining transmission characteristics over the plurality of non-contiguous channels.\\n An apparatus comprising: a wireless communication unit capable of transmitting symbols of a wireless communication packet to a wireless communication device over a plurality of non-contiguous wireless communication channels, wherein the wireless communication unit is to transmit, as part of a preamble of the packet, signaling information defining transmission characteristics over the plurality of non-contiguous channels, said wireless communication unit is to transmit over a first channel of the plurality of non-contiguous channels at least first signaling information defining first transmission characteristics over the first channel, and to transmit over a second channel of the plurality of non-contiguous channels at least second signaling information defining second transmission characteristics over the second channel, the first signaling information including at least one type of information selected from the group consisting of a bandwidth of the first channel and channel allocation information corresponding to the first channel. A system comprising: a wireless communication device including: at least one antenna; and a wireless communication unit including: a plurality of transmission chains; and a media-access-controller (MAC) to control the plurality of transmission chains to simultaneously transmit symbols of a wireless communication packet over a plurality of non-contiguous wireless communication channels, said wireless communication unit is to transmit over a first channel of the plurality of non-contiguous channels at least first signaling information defining first transmission characteristics over the first channel, and to transmit over a second channel of the plurality of non-contiguous channels at least second signaling information defining second transmission characteristics over the second channel, the first signaling information including at least one type of information selected from the group consisting of a bandwidth of the first channel and channel allocation information corresponding to the first channel. A method comprising: transmitting over a first channel of a plurality of non-contiguous channels at least first signaling information defining first transmission characteristics over the first channel, and transmitting over a second channel of the plurality of non-contiguous channels at least second signaling information defining second transmission characteristics over the second channel, the first signaling information including at least one type of information selected from the group consisting of a bandwidth of the first channel and channel allocation information corresponding to the first channel; and transmitting symbols of a wireless communication packet over the first and second channels according to the first and second transmission characteristics, respectively.', 'score': 0.5465201139450073, 'answer': 'at least one antenna'}\n"
     ]
    }
   ],
   "source": [
    "# top answer\n",
    "print(answer_scores[0])"
   ]
  }
 ],
 "metadata": {
  "kernelspec": {
   "display_name": "Python 3 (ipykernel)",
   "language": "python",
   "name": "python3"
  },
  "language_info": {
   "codemirror_mode": {
    "name": "ipython",
    "version": 3
   },
   "file_extension": ".py",
   "mimetype": "text/x-python",
   "name": "python",
   "nbconvert_exporter": "python",
   "pygments_lexer": "ipython3",
   "version": "3.7.11"
  }
 },
 "nbformat": 4,
 "nbformat_minor": 5
}
